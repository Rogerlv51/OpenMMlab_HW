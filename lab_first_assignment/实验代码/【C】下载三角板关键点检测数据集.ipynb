{
 "cells": [
  {
   "cell_type": "markdown",
   "id": "65827da0-e3f9-4da1-bc9c-dec8ef42c5f5",
   "metadata": {},
   "source": [
    "# 下载三角板关键点检测数据集\n",
    "\n",
    "同济子豪兄 2023-4-3"
   ]
  },
  {
   "cell_type": "markdown",
   "id": "bb91a05b-5aa9-4027-bf0f-912b934d59cd",
   "metadata": {
    "tags": []
   },
   "source": [
    "## 进入 mmpose 主目录 或 mmdetection 主目录"
   ]
  },
  {
   "cell_type": "code",
   "execution_count": 1,
   "id": "185fb8f7-771b-4ac0-bd86-de663021412b",
   "metadata": {},
   "outputs": [],
   "source": [
    "import os\n",
    "os.chdir('mmpose')\n",
    "# os.chdir('mmdetection')"
   ]
  },
  {
   "cell_type": "markdown",
   "id": "d16cb5c3-1b43-4d2a-ba5d-af8f74c00c2e",
   "metadata": {
    "tags": []
   },
   "source": [
    "## 下载数据集至`data`目录"
   ]
  },
  {
   "cell_type": "code",
   "execution_count": 2,
   "id": "abe084b5-e1b2-4074-a490-ae82f6f6ef46",
   "metadata": {},
   "outputs": [],
   "source": [
    "# 删除原有的数据集文件（如有）\n",
    "!rm -rf data/Triangle_215_Keypoint_coco data/Triangle_215_Keypoint_coco.zip"
   ]
  },
  {
   "cell_type": "code",
   "execution_count": 3,
   "id": "b663508f-6700-4a9a-a0a0-6e01373f4411",
   "metadata": {},
   "outputs": [
    {
     "name": "stdout",
     "output_type": "stream",
     "text": [
      "--2023-05-18 10:12:32--  https://zihao-download.obs.cn-east-3.myhuaweicloud.com/yolov8/datasets/Triangle_215_Dataset/Triangle_215_Keypoint_coco.zip\n",
      "正在连接 172.16.0.13:5848... 已连接。\n",
      "已发出 Proxy 请求，正在等待回应... 200 OK\n",
      "长度： 191452413 (183M) [application/zip]\n",
      "正在保存至: “data/Triangle_215_Keypoint_coco.zip”\n",
      "\n",
      "Triangle_215_Keypoi 100%[===================>] 182.58M  57.9MB/s    用时 3.4s    \n",
      "\n",
      "2023-05-18 10:12:36 (53.5 MB/s) - 已保存 “data/Triangle_215_Keypoint_coco.zip” [191452413/191452413])\n",
      "\n"
     ]
    }
   ],
   "source": [
    "# 下载数据集压缩包\n",
    "!wget https://zihao-download.obs.cn-east-3.myhuaweicloud.com/yolov8/datasets/Triangle_215_Dataset/Triangle_215_Keypoint_coco.zip -P data\n"
   ]
  },
  {
   "cell_type": "markdown",
   "id": "69805779-3f90-4c1f-8ffd-dc2f6a0a4557",
   "metadata": {},
   "source": [
    "## 解压数据集至`data`目录"
   ]
  },
  {
   "cell_type": "code",
   "execution_count": 4,
   "id": "7f81f573-6171-4c97-84ec-e5e092dc35cd",
   "metadata": {},
   "outputs": [],
   "source": [
    "!unzip data/Triangle_215_Keypoint_coco.zip -d data >> /dev/null # 解压压缩包\n",
    "!rm -rf data/Triangle_215_Keypoint_coco.zip # 删除压缩包"
   ]
  },
  {
   "cell_type": "markdown",
   "id": "60a0683c-a93b-43e3-bea7-c2c57d5f1c92",
   "metadata": {},
   "source": [
    "## 下载用于测试的图像和视频"
   ]
  },
  {
   "cell_type": "code",
   "execution_count": 5,
   "id": "bbf22f49-892f-4cc8-b3ca-e5e71f4315e8",
   "metadata": {},
   "outputs": [],
   "source": [
    "!mkdir data/test_triangle"
   ]
  },
  {
   "cell_type": "code",
   "execution_count": 2,
   "id": "25a8474f-17e0-40b2-93b1-0ec0bfc3fa41",
   "metadata": {},
   "outputs": [
    {
     "name": "stdout",
     "output_type": "stream",
     "text": [
      "--2023-05-19 16:03:35--  https://zihao-openmmlab.obs.myhuaweicloud.com/20220610-mmpose/triangle_dataset/test_img/triangle_1.jpg\n",
      "正在连接 172.16.0.13:5848... 已连接。\n",
      "已发出 Proxy 请求，正在等待回应... 200 OK\n",
      "长度： 1361630 (1.3M) [image/jpeg]\n",
      "正在保存至: “data/test_triangle/triangle_1.jpg.1”\n",
      "\n",
      "triangle_1.jpg.1    100%[===================>]   1.30M  4.55MB/s    用时 0.3s    \n",
      "\n",
      "2023-05-19 16:03:36 (4.55 MB/s) - 已保存 “data/test_triangle/triangle_1.jpg.1” [1361630/1361630])\n",
      "\n",
      "--2023-05-19 16:03:36--  https://zihao-openmmlab.obs.myhuaweicloud.com/20220610-mmpose/triangle_dataset/test_img/triangle_2.jpg\n",
      "正在连接 172.16.0.13:5848... 已连接。\n",
      "已发出 Proxy 请求，正在等待回应... 200 OK\n",
      "长度： 4653317 (4.4M) [image/jpeg]\n",
      "正在保存至: “data/test_triangle/triangle_2.jpg.1”\n",
      "\n",
      "triangle_2.jpg.1    100%[===================>]   4.44M  12.4MB/s    用时 0.4s    \n",
      "\n",
      "2023-05-19 16:03:37 (12.4 MB/s) - 已保存 “data/test_triangle/triangle_2.jpg.1” [4653317/4653317])\n",
      "\n",
      "--2023-05-19 16:03:37--  https://zihao-openmmlab.obs.myhuaweicloud.com/20220610-mmpose/triangle_dataset/test_img/triangle_3.jpg\n",
      "正在连接 172.16.0.13:5848... 已连接。\n",
      "已发出 Proxy 请求，正在等待回应... 200 OK\n",
      "长度： 865194 (845K) [image/jpeg]\n",
      "正在保存至: “data/test_triangle/triangle_3.jpg.1”\n",
      "\n",
      "triangle_3.jpg.1    100%[===================>] 844.92K  3.20MB/s    用时 0.3s    \n",
      "\n",
      "2023-05-19 16:03:37 (3.20 MB/s) - 已保存 “data/test_triangle/triangle_3.jpg.1” [865194/865194])\n",
      "\n",
      "--2023-05-19 16:03:38--  https://zihao-openmmlab.obs.myhuaweicloud.com/20220610-mmpose/triangle_dataset/test_img/triangle_4.jpg\n",
      "正在连接 172.16.0.13:5848... 已连接。\n",
      "已发出 Proxy 请求，正在等待回应... 200 OK\n",
      "长度： 1037930 (1014K) [image/jpeg]\n",
      "正在保存至: “data/test_triangle/triangle_4.jpg.1”\n",
      "\n",
      "triangle_4.jpg.1    100%[===================>]   1014K  3.78MB/s    用时 0.3s    \n",
      "\n",
      "2023-05-19 16:03:38 (3.78 MB/s) - 已保存 “data/test_triangle/triangle_4.jpg.1” [1037930/1037930])\n",
      "\n",
      "--2023-05-19 16:03:38--  https://zihao-openmmlab.obs.myhuaweicloud.com/20220610-mmpose/triangle_dataset/videos/triangle_6.mp4\n",
      "正在连接 172.16.0.13:5848... 已连接。\n",
      "已发出 Proxy 请求，正在等待回应... 200 OK\n",
      "长度： 4361332 (4.2M) [video/mp4]\n",
      "正在保存至: “data/test_triangle/triangle_6.mp4.1”\n",
      "\n",
      "triangle_6.mp4.1    100%[===================>]   4.16M  11.7MB/s    用时 0.4s    \n",
      "\n",
      "2023-05-19 16:03:39 (11.7 MB/s) - 已保存 “data/test_triangle/triangle_6.mp4.1” [4361332/4361332])\n",
      "\n",
      "--2023-05-19 16:03:39--  https://zihao-openmmlab.obs.myhuaweicloud.com/20220610-mmpose/triangle_dataset/videos/triangle_7.mp4\n",
      "正在连接 172.16.0.13:5848... 已连接。\n",
      "已发出 Proxy 请求，正在等待回应... 200 OK\n",
      "长度： 3358088 (3.2M) [video/mp4]\n",
      "正在保存至: “data/test_triangle/triangle_7.mp4.1”\n",
      "\n",
      "triangle_7.mp4.1    100%[===================>]   3.20M  9.58MB/s    用时 0.3s    \n",
      "\n",
      "2023-05-19 16:03:40 (9.58 MB/s) - 已保存 “data/test_triangle/triangle_7.mp4.1” [3358088/3358088])\n",
      "\n",
      "--2023-05-19 16:03:40--  https://zihao-openmmlab.obs.myhuaweicloud.com/20220610-mmpose/triangle_dataset/videos/triangle_9.mp4\n",
      "正在连接 172.16.0.13:5848... 已连接。\n",
      "已发出 Proxy 请求，正在等待回应... 200 OK\n",
      "长度： 4881965 (4.7M) [video/mp4]\n",
      "正在保存至: “data/test_triangle/triangle_9.mp4.1”\n",
      "\n",
      "triangle_9.mp4.1    100%[===================>]   4.66M  12.4MB/s    用时 0.4s    \n",
      "\n",
      "2023-05-19 16:03:40 (12.4 MB/s) - 已保存 “data/test_triangle/triangle_9.mp4.1” [4881965/4881965])\n",
      "\n"
     ]
    }
   ],
   "source": [
    "# 图像-30度直角三角板，拍摄：同济子豪兄、田文博\n",
    "!wget https://zihao-openmmlab.obs.myhuaweicloud.com/20220610-mmpose/triangle_dataset/test_img/triangle_1.jpg -P data/test_triangle\n",
    "!wget https://zihao-openmmlab.obs.myhuaweicloud.com/20220610-mmpose/triangle_dataset/test_img/triangle_2.jpg -P data/test_triangle\n",
    "!wget https://zihao-openmmlab.obs.myhuaweicloud.com/20220610-mmpose/triangle_dataset/test_img/triangle_3.jpg -P data/test_triangle\n",
    "!wget https://zihao-openmmlab.obs.myhuaweicloud.com/20220610-mmpose/triangle_dataset/test_img/triangle_4.jpg -P data/test_triangle\n",
    "\n",
    "# 视频-30度直角三角板，拍摄：同济子豪兄，田文博\n",
    "!wget https://zihao-openmmlab.obs.myhuaweicloud.com/20220610-mmpose/triangle_dataset/videos/triangle_6.mp4 -P data/test_triangle\n",
    "!wget https://zihao-openmmlab.obs.myhuaweicloud.com/20220610-mmpose/triangle_dataset/videos/triangle_7.mp4 -P data/test_triangle\n",
    "!wget https://zihao-openmmlab.obs.myhuaweicloud.com/20220610-mmpose/triangle_dataset/videos/triangle_9.mp4 -P data/test_triangle"
   ]
  },
  {
   "cell_type": "markdown",
   "id": "e647bdbe-f3bb-458d-8574-d2f40e85ed16",
   "metadata": {},
   "source": [
    "## 查看数据集中的图片"
   ]
  },
  {
   "cell_type": "code",
   "execution_count": 7,
   "id": "0c06c724-64df-43c7-b1fd-1987e1db82f6",
   "metadata": {},
   "outputs": [],
   "source": [
    "# from PIL import Image\n",
    "# Image.open('data/Triangle_215_Keypoint_coco/images/DSC_0373.jpg')"
   ]
  },
  {
   "cell_type": "markdown",
   "id": "a8df8967-67a8-45c2-8e81-880ecaae1ab2",
   "metadata": {},
   "source": [
    "## 删除系统自动生成的多余文件\n",
    "\n",
    "建议在 Linux 系统中运行爬虫、划分训练集测试集代码"
   ]
  },
  {
   "cell_type": "markdown",
   "id": "48c0e95b-f383-4765-92e0-1c0359704b26",
   "metadata": {},
   "source": [
    "### 查看待删除的多余文件"
   ]
  },
  {
   "cell_type": "code",
   "execution_count": 8,
   "id": "a8356247-4b89-42e9-aa87-4c630f05e1f8",
   "metadata": {},
   "outputs": [],
   "source": [
    "!find . -iname '__MACOSX'"
   ]
  },
  {
   "cell_type": "code",
   "execution_count": 9,
   "id": "a1b64d9d-bdf8-43fe-8321-bb6d241137dc",
   "metadata": {},
   "outputs": [],
   "source": [
    "!find . -iname '.DS_Store'"
   ]
  },
  {
   "cell_type": "code",
   "execution_count": 10,
   "id": "a5f038c2-72ba-4724-a190-b2ec97d8bcf0",
   "metadata": {},
   "outputs": [],
   "source": [
    "!find . -iname '.ipynb_checkpoints'"
   ]
  },
  {
   "cell_type": "markdown",
   "id": "44bb281b-c851-4818-b0c8-49cabe62e925",
   "metadata": {},
   "source": [
    "### 删除多余文件"
   ]
  },
  {
   "cell_type": "code",
   "execution_count": 11,
   "id": "4bf04f95-0750-4248-8696-fa2aa4ff03e5",
   "metadata": {},
   "outputs": [],
   "source": [
    "!for i in `find . -iname '__MACOSX'`; do rm -rf $i;done"
   ]
  },
  {
   "cell_type": "code",
   "execution_count": 12,
   "id": "217b2325-835b-451c-89d7-3d39c5dfc5c2",
   "metadata": {},
   "outputs": [],
   "source": [
    "!for i in `find . -iname '.DS_Store'`; do rm -rf $i;done"
   ]
  },
  {
   "cell_type": "code",
   "execution_count": 13,
   "id": "cfb7afa4-106a-4e6a-ab35-86f0eb902432",
   "metadata": {},
   "outputs": [],
   "source": [
    "!for i in `find . -iname '.ipynb_checkpoints'`; do rm -rf $i;done"
   ]
  },
  {
   "cell_type": "markdown",
   "id": "c5591044-de11-4084-a830-a89d8bdc5b3a",
   "metadata": {},
   "source": [
    "### 验证多余文件已删除"
   ]
  },
  {
   "cell_type": "code",
   "execution_count": 14,
   "id": "33239471-a70e-426d-beba-3517c14311e6",
   "metadata": {},
   "outputs": [],
   "source": [
    "!find . -iname '__MACOSX'"
   ]
  },
  {
   "cell_type": "code",
   "execution_count": 15,
   "id": "f82a7703-8b94-4103-9672-ec29849616b9",
   "metadata": {},
   "outputs": [],
   "source": [
    "!find . -iname '.DS_Store'"
   ]
  },
  {
   "cell_type": "code",
   "execution_count": 16,
   "id": "0101460a-d0bc-4388-aa0b-d30b0f0ef538",
   "metadata": {},
   "outputs": [],
   "source": [
    "!find . -iname '.ipynb_checkpoints'"
   ]
  },
  {
   "cell_type": "markdown",
   "id": "f82abca0-3ba7-4fe2-9432-82e34b13ee61",
   "metadata": {},
   "source": [
    "## 注意，要在`mmpose`和`mmdetection`两个目录都运行一遍"
   ]
  },
  {
   "cell_type": "code",
   "execution_count": null,
   "id": "abb80ff9-9fbb-4c69-9b7c-ae1a131a58f3",
   "metadata": {},
   "outputs": [],
   "source": []
  }
 ],
 "metadata": {
  "kernelspec": {
   "display_name": "Python 3 (ipykernel)",
   "language": "python",
   "name": "python3"
  },
  "language_info": {
   "codemirror_mode": {
    "name": "ipython",
    "version": 3
   },
   "file_extension": ".py",
   "mimetype": "text/x-python",
   "name": "python",
   "nbconvert_exporter": "python",
   "pygments_lexer": "ipython3",
   "version": "3.7.10"
  }
 },
 "nbformat": 4,
 "nbformat_minor": 5
}
