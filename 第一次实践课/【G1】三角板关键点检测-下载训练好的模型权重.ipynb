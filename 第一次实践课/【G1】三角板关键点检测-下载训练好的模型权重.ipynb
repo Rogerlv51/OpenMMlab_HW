{
 "cells": [
  {
   "cell_type": "markdown",
   "id": "6d6ad43b-8fde-4c7b-ad67-1bce62c08afd",
   "metadata": {},
   "source": [
    "# 三角板关键点检测-下载训练好的模型权重\n",
    "\n",
    "同济子豪兄 2023-4-6"
   ]
  },
  {
   "cell_type": "markdown",
   "id": "9170e712-665b-4533-ab7b-b6343548f6e4",
   "metadata": {
    "tags": []
   },
   "source": [
    "## 进入 mmpose 主目录"
   ]
  },
  {
   "cell_type": "code",
   "execution_count": 1,
   "id": "11c3a96e-94cc-475e-8f78-bcf02d281052",
   "metadata": {},
   "outputs": [],
   "source": [
    "import os\n",
    "os.chdir('mmpose')"
   ]
  },
  {
   "cell_type": "markdown",
   "id": "38e401ff-17b7-4bc9-b021-441fefe89aeb",
   "metadata": {},
   "source": [
    "## 下载模型权重文件至`checkpoint`目录"
   ]
  },
  {
   "cell_type": "code",
   "execution_count": 2,
   "id": "ea2bfc79-95df-4994-a068-b35c5854c902",
   "metadata": {},
   "outputs": [
    {
     "name": "stdout",
     "output_type": "stream",
     "text": [
      "--2023-05-18 11:06:50--  https://zihao-openmmlab.obs.cn-east-3.myhuaweicloud.com/20220610-mmpose/triangle_dataset/ckpt/0512/rtmpose_s_triangle_300-34bfaeb2_20230512.pth\n",
      "正在连接 172.16.0.13:5848... 已连接。\n",
      "已发出 Proxy 请求，正在等待回应... 200 OK\n",
      "长度： 52564636 (50M) [binary/octet-stream]\n",
      "正在保存至: “checkpoint/rtmpose_s_triangle_300-34bfaeb2_20230512.pth”\n",
      "\n",
      "rtmpose_s_triangle_ 100%[===================>]  50.13M  46.7MB/s    用时 1.1s    \n",
      "\n",
      "2023-05-18 11:06:51 (46.7 MB/s) - 已保存 “checkpoint/rtmpose_s_triangle_300-34bfaeb2_20230512.pth” [52564636/52564636])\n",
      "\n"
     ]
    }
   ],
   "source": [
    "# RTMDet-S 三角板目标检测\n",
    "!rm -rf checkpoint/rtmpose_s_triangle_300-34bfaeb2_20230512.pth\n",
    "!wget https://zihao-openmmlab.obs.cn-east-3.myhuaweicloud.com/20220610-mmpose/triangle_dataset/ckpt/0512/rtmpose_s_triangle_300-34bfaeb2_20230512.pth -P checkpoint\n"
   ]
  },
  {
   "cell_type": "code",
   "execution_count": null,
   "id": "c0759d57-0042-46c6-98b4-acbf525bc114",
   "metadata": {},
   "outputs": [],
   "source": []
  }
 ],
 "metadata": {
  "kernelspec": {
   "display_name": "Python 3 (ipykernel)",
   "language": "python",
   "name": "python3"
  },
  "language_info": {
   "codemirror_mode": {
    "name": "ipython",
    "version": 3
   },
   "file_extension": ".py",
   "mimetype": "text/x-python",
   "name": "python",
   "nbconvert_exporter": "python",
   "pygments_lexer": "ipython3",
   "version": "3.7.10"
  }
 },
 "nbformat": 4,
 "nbformat_minor": 5
}
