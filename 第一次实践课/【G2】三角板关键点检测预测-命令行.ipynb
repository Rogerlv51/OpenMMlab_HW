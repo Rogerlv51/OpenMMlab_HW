{
 "cells": [
  {
   "cell_type": "markdown",
   "id": "466a64ed-7068-4a92-9755-84ea56de799d",
   "metadata": {},
   "source": [
    "# 三角板关键点检测预测-命令行\n",
    "\n",
    "同济子豪兄 2023-4-3"
   ]
  },
  {
   "cell_type": "markdown",
   "id": "90f3a192-6e82-493d-ad66-f3c8cf16ece5",
   "metadata": {
    "tags": []
   },
   "source": [
    "## 进入 mmpose 主目录"
   ]
  },
  {
   "cell_type": "code",
   "execution_count": 1,
   "id": "801da2ce-97c1-47a2-a211-86336b6f0679",
   "metadata": {},
   "outputs": [],
   "source": [
    "import os\n",
    "os.chdir('mmpose')"
   ]
  },
  {
   "cell_type": "code",
   "execution_count": 2,
   "id": "064ec7a5-b4e2-4197-9a7c-d77c8968f73c",
   "metadata": {},
   "outputs": [],
   "source": [
    "## 目标检测模型\n",
    "\n",
    "# Faster R CNN\n",
    "# data/faster_r_cnn_triangle.py\n",
    "# checkpoint/faster_r_cnn_triangle_epoch_50_202305120846-76d9dde3.pth\n",
    "\n",
    "# RTMDet-Tiny\n",
    "# data/rtmdet_tiny_triangle.py\n",
    "# checkpoint/rtmdet_tiny_triangle_epoch_200_202305120847-3cd02a8f.pth\n",
    "\n",
    "## 关键点检测模型\n",
    "\n",
    "# data/rtmpose-s_triangle_8xb256-420e_coco-256x192.py\n",
    "# checkpoint/rtmpose_s_triangle_300-34bfaeb2_20230512.pth"
   ]
  },
  {
   "cell_type": "markdown",
   "id": "8ed4d058-f23c-40d1-a662-910cce1be52b",
   "metadata": {},
   "source": [
    "## 单张图像-关键点检测预测"
   ]
  },
  {
   "cell_type": "code",
   "execution_count": 6,
   "id": "cab9972f-3694-4cb1-87f2-5a55d5feca5d",
   "metadata": {},
   "outputs": [
    {
     "name": "stdout",
     "output_type": "stream",
     "text": [
      "Loads checkpoint by local backend from path: checkpoint/faster_r_cnn_triangle_epoch_50_202305120846-76d9dde3.pth\n",
      "Loads checkpoint by local backend from path: checkpoint/rtmpose_s_triangle_300-34bfaeb2_20230512.pth\n",
      "05/19 16:03:10 - mmengine - \u001b[5m\u001b[4m\u001b[33mWARNING\u001b[0m - `Visualizer` backend is not initialized because save_dir is None.\n",
      "Traceback (most recent call last):\n",
      "  File \"demo/topdown_demo_with_mmdet.py\", line 292, in <module>\n",
      "    main()\n",
      "  File \"demo/topdown_demo_with_mmdet.py\", line 209, in main\n",
      "    pose_estimator, visualizer)\n",
      "  File \"demo/topdown_demo_with_mmdet.py\", line 36, in process_one_image\n",
      "    det_result = inference_detector(detector, img)\n",
      "  File \"/home/featurize/work/关键点检测/0518录制/mmdetection/mmdet/apis/inference.py\", line 170, in inference_detector\n",
      "    data_ = test_pipeline(data_)\n",
      "  File \"/environment/miniconda3/lib/python3.7/site-packages/mmcv/transforms/base.py\", line 12, in __call__\n",
      "    return self.transform(results)\n",
      "  File \"/environment/miniconda3/lib/python3.7/site-packages/mmcv/transforms/wrappers.py\", line 88, in transform\n",
      "    results = t(results)  # type: ignore\n",
      "  File \"/environment/miniconda3/lib/python3.7/site-packages/mmcv/transforms/base.py\", line 12, in __call__\n",
      "    return self.transform(results)\n",
      "  File \"/environment/miniconda3/lib/python3.7/site-packages/mmcv/transforms/loading.py\", line 107, in transform\n",
      "    raise e\n",
      "  File \"/environment/miniconda3/lib/python3.7/site-packages/mmcv/transforms/loading.py\", line 100, in transform\n",
      "    filename, backend_args=self.backend_args)\n",
      "  File \"/environment/miniconda3/lib/python3.7/site-packages/mmengine/fileio/io.py\", line 181, in get\n",
      "    return backend.get(filepath)\n",
      "  File \"/environment/miniconda3/lib/python3.7/site-packages/mmengine/fileio/backends/local_backend.py\", line 33, in get\n",
      "    with open(filepath, 'rb') as f:\n",
      "FileNotFoundError: [Errno 2] No such file or directory: 'data/test_triangle/triangle_7.jpg'\n"
     ]
    }
   ],
   "source": [
    "# Faster R CNN --> RTMPose\n",
    "!python demo/topdown_demo_with_mmdet.py \\\n",
    "        data/faster_r_cnn_triangle.py \\\n",
    "        checkpoint/faster_r_cnn_triangle_epoch_50_202305120846-76d9dde3.pth \\\n",
    "        data/rtmpose-s_triangle_8xb256-420e_coco-256x192.py \\\n",
    "        checkpoint/rtmpose_s_triangle_300-34bfaeb2_20230512.pth \\\n",
    "        --input data/test_triangle/triangle_7.jpg \\\n",
    "        --output-root outputs/G2_Fasterrcnn-RTMPose \\\n",
    "        --device cuda:0 \\\n",
    "        --bbox-thr 0.5 \\\n",
    "        --kpt-thr 0.5 \\\n",
    "        --nms-thr 0.3 \\\n",
    "        --radius 36 \\\n",
    "        --thickness 30 \\\n",
    "        --draw-bbox \\\n",
    "        --draw-heatmap \\\n",
    "        --show-kpt-idx"
   ]
  },
  {
   "cell_type": "code",
   "execution_count": 9,
   "id": "0696f950-5459-493c-bc75-e04123eab06f",
   "metadata": {},
   "outputs": [
    {
     "name": "stdout",
     "output_type": "stream",
     "text": [
      "Loads checkpoint by local backend from path: checkpoint/rtmdet_tiny_triangle_epoch_200_202305120847-3cd02a8f.pth\n",
      "Loads checkpoint by local backend from path: checkpoint/rtmpose_s_triangle_300-34bfaeb2_20230512.pth\n",
      "05/19 16:04:25 - mmengine - \u001b[5m\u001b[4m\u001b[33mWARNING\u001b[0m - `Visualizer` backend is not initialized because save_dir is None.\n",
      "/environment/miniconda3/lib/python3.7/site-packages/torch/functional.py:445: UserWarning: torch.meshgrid: in an upcoming release, it will be required to pass the indexing argument. (Triggered internally at  ../aten/src/ATen/native/TensorShape.cpp:2157.)\n",
      "  return _VF.meshgrid(tensors, **kwargs)  # type: ignore[attr-defined]\n",
      "/home/featurize/work/关键点检测/0518录制/mmpose/mmpose/mmpose/models/heads/coord_cls_heads/rtmcc_head.py:217: UserWarning: The predicted simcc values are normalized for visualization. This may cause discrepancy between the keypoint scores and the 1D heatmaps.\n",
      "  warnings.warn('The predicted simcc values are normalized for '\n"
     ]
    }
   ],
   "source": [
    "# RTMDet --> RTMPose\n",
    "!python demo/topdown_demo_with_mmdet.py \\\n",
    "        data/rtmdet_tiny_triangle.py \\\n",
    "        checkpoint/rtmdet_tiny_triangle_epoch_200_202305120847-3cd02a8f.pth \\\n",
    "        data/rtmpose-s_triangle_8xb256-420e_coco-256x192.py \\\n",
    "        checkpoint/rtmpose_s_triangle_300-34bfaeb2_20230512.pth \\\n",
    "        --input data/test_triangle/triangle_4.jpg \\\n",
    "        --output-root outputs/G2_RTMDet-RTMPose \\\n",
    "        --device cuda:0 \\\n",
    "        --bbox-thr 0.5 \\\n",
    "        --kpt-thr 0.5 \\\n",
    "        --nms-thr 0.3 \\\n",
    "        --radius 36 \\\n",
    "        --thickness 30 \\\n",
    "        --draw-bbox \\\n",
    "        --draw-heatmap \\\n",
    "        --show-kpt-idx"
   ]
  },
  {
   "cell_type": "markdown",
   "id": "dd73e683-9186-4868-ade0-ea8dfa5bacd8",
   "metadata": {},
   "source": [
    "## 视频-关键点检测预测"
   ]
  },
  {
   "cell_type": "code",
   "execution_count": 5,
   "id": "22c18333-b46a-4072-bc2a-42a82edf9c3e",
   "metadata": {},
   "outputs": [
    {
     "name": "stdout",
     "output_type": "stream",
     "text": [
      "Loads checkpoint by local backend from path: checkpoint/rtmdet_tiny_triangle_epoch_200_202305120847-3cd02a8f.pth\n",
      "Loads checkpoint by local backend from path: checkpoint/rtmpose_s_triangle_300-34bfaeb2_20230512.pth\n",
      "05/18 11:07:56 - mmengine - \u001b[5m\u001b[4m\u001b[33mWARNING\u001b[0m - `Visualizer` backend is not initialized because save_dir is None.\n",
      "/environment/miniconda3/lib/python3.7/site-packages/torch/functional.py:445: UserWarning: torch.meshgrid: in an upcoming release, it will be required to pass the indexing argument. (Triggered internally at  ../aten/src/ATen/native/TensorShape.cpp:2157.)\n",
      "  return _VF.meshgrid(tensors, **kwargs)  # type: ignore[attr-defined]\n",
      "/home/featurize/work/关键点检测/0518录制/mmpose/mmpose/mmpose/models/heads/coord_cls_heads/rtmcc_head.py:217: UserWarning: The predicted simcc values are normalized for visualization. This may cause discrepancy between the keypoint scores and the 1D heatmaps.\n",
      "  warnings.warn('The predicted simcc values are normalized for '\n"
     ]
    }
   ],
   "source": [
    "# RTMDet --> RTMPose\n",
    "!python demo/topdown_demo_with_mmdet.py \\\n",
    "        data/rtmdet_tiny_triangle.py \\\n",
    "        checkpoint/rtmdet_tiny_triangle_epoch_200_202305120847-3cd02a8f.pth \\\n",
    "        data/rtmpose-s_triangle_8xb256-420e_coco-256x192.py \\\n",
    "        checkpoint/rtmpose_s_triangle_300-34bfaeb2_20230512.pth \\\n",
    "        --input data/test_triangle/triangle_9.mp4 \\\n",
    "        --output-root outputs/G2_Video \\\n",
    "        --device cuda:0 \\\n",
    "        --bbox-thr 0.5 \\\n",
    "        --kpt-thr 0.5 \\\n",
    "        --nms-thr 0.3 \\\n",
    "        --radius 16 \\\n",
    "        --thickness 10 \\\n",
    "        --draw-bbox \\\n",
    "        --draw-heatmap \\\n",
    "        --show-kpt-idx"
   ]
  },
  {
   "cell_type": "markdown",
   "id": "efeb4973-3558-45c4-98f6-3486ab1e003f",
   "metadata": {},
   "source": [
    "## 摄像头实时画面-关键点检测预测\n",
    "\n",
    "见本地运行的代码教程，需在本地调用摄像头运行，不能在云GPU平台运行"
   ]
  },
  {
   "cell_type": "code",
   "execution_count": null,
   "id": "b57c3d86-42a8-4891-918d-ba2556aebe06",
   "metadata": {},
   "outputs": [],
   "source": []
  }
 ],
 "metadata": {
  "kernelspec": {
   "display_name": "Python 3 (ipykernel)",
   "language": "python",
   "name": "python3"
  },
  "language_info": {
   "codemirror_mode": {
    "name": "ipython",
    "version": 3
   },
   "file_extension": ".py",
   "mimetype": "text/x-python",
   "name": "python",
   "nbconvert_exporter": "python",
   "pygments_lexer": "ipython3",
   "version": "3.7.10"
  }
 },
 "nbformat": 4,
 "nbformat_minor": 5
}
